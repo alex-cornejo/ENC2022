{
  "nbformat": 4,
  "nbformat_minor": 0,
  "metadata": {
    "colab": {
      "name": "Multiobjective problems.ipynb",
      "provenance": []
    },
    "kernelspec": {
      "name": "python3",
      "display_name": "Python 3"
    },
    "language_info": {
      "name": "python"
    }
  },
  "cells": [
    {
      "cell_type": "code",
      "execution_count": 2,
      "metadata": {
        "colab": {
          "base_uri": "https://localhost:8080/"
        },
        "id": "-vc9iarA5qUs",
        "outputId": "f5280e14-83a5-4562-8c84-8d227fcdd855"
      },
      "outputs": [
        {
          "output_type": "stream",
          "name": "stdout",
          "text": [
            "Looking in indexes: https://pypi.org/simple, https://us-python.pkg.dev/colab-wheels/public/simple/\n",
            "Collecting pymoo\n",
            "  Downloading pymoo-0.6.0-cp37-cp37m-manylinux_2_24_x86_64.whl (1.9 MB)\n",
            "\u001b[K     |████████████████████████████████| 1.9 MB 5.2 MB/s \n",
            "\u001b[?25hRequirement already satisfied: autograd>=1.4 in /usr/local/lib/python3.7/dist-packages (from pymoo) (1.4)\n",
            "Requirement already satisfied: numpy>=1.15 in /usr/local/lib/python3.7/dist-packages (from pymoo) (1.21.6)\n",
            "Collecting cma==3.2.2\n",
            "  Downloading cma-3.2.2-py2.py3-none-any.whl (249 kB)\n",
            "\u001b[K     |████████████████████████████████| 249 kB 53.6 MB/s \n",
            "\u001b[?25hCollecting alive-progress\n",
            "  Downloading alive_progress-2.4.1-py3-none-any.whl (80 kB)\n",
            "\u001b[K     |████████████████████████████████| 80 kB 9.1 MB/s \n",
            "\u001b[?25hCollecting Deprecated\n",
            "  Downloading Deprecated-1.2.13-py2.py3-none-any.whl (9.6 kB)\n",
            "Requirement already satisfied: dill in /usr/local/lib/python3.7/dist-packages (from pymoo) (0.3.5.1)\n",
            "Requirement already satisfied: scipy>=1.1 in /usr/local/lib/python3.7/dist-packages (from pymoo) (1.7.3)\n",
            "Requirement already satisfied: matplotlib>=3 in /usr/local/lib/python3.7/dist-packages (from pymoo) (3.2.2)\n",
            "Requirement already satisfied: future>=0.15.2 in /usr/local/lib/python3.7/dist-packages (from autograd>=1.4->pymoo) (0.16.0)\n",
            "Requirement already satisfied: cycler>=0.10 in /usr/local/lib/python3.7/dist-packages (from matplotlib>=3->pymoo) (0.11.0)\n",
            "Requirement already satisfied: kiwisolver>=1.0.1 in /usr/local/lib/python3.7/dist-packages (from matplotlib>=3->pymoo) (1.4.4)\n",
            "Requirement already satisfied: python-dateutil>=2.1 in /usr/local/lib/python3.7/dist-packages (from matplotlib>=3->pymoo) (2.8.2)\n",
            "Requirement already satisfied: pyparsing!=2.0.4,!=2.1.2,!=2.1.6,>=2.0.1 in /usr/local/lib/python3.7/dist-packages (from matplotlib>=3->pymoo) (3.0.9)\n",
            "Requirement already satisfied: typing-extensions in /usr/local/lib/python3.7/dist-packages (from kiwisolver>=1.0.1->matplotlib>=3->pymoo) (4.1.1)\n",
            "Requirement already satisfied: six>=1.5 in /usr/local/lib/python3.7/dist-packages (from python-dateutil>=2.1->matplotlib>=3->pymoo) (1.15.0)\n",
            "Collecting about-time==3.1.1\n",
            "  Downloading about_time-3.1.1-py3-none-any.whl (9.1 kB)\n",
            "Collecting grapheme==0.6.0\n",
            "  Downloading grapheme-0.6.0.tar.gz (207 kB)\n",
            "\u001b[K     |████████████████████████████████| 207 kB 43.9 MB/s \n",
            "\u001b[?25hRequirement already satisfied: wrapt<2,>=1.10 in /usr/local/lib/python3.7/dist-packages (from Deprecated->pymoo) (1.14.1)\n",
            "Building wheels for collected packages: grapheme\n",
            "  Building wheel for grapheme (setup.py) ... \u001b[?25l\u001b[?25hdone\n",
            "  Created wheel for grapheme: filename=grapheme-0.6.0-py3-none-any.whl size=210096 sha256=ab43e40c668d144e4f7ce0fd81e376f4280f81d0dbe8dd47dc34e164e8f3215b\n",
            "  Stored in directory: /root/.cache/pip/wheels/71/fc/c8/142ef03b79c02b618fe80b9f2d01c25bd55f60b0c58eab3f0e\n",
            "Successfully built grapheme\n",
            "Installing collected packages: grapheme, about-time, Deprecated, cma, alive-progress, pymoo\n",
            "Successfully installed Deprecated-1.2.13 about-time-3.1.1 alive-progress-2.4.1 cma-3.2.2 grapheme-0.6.0 pymoo-0.6.0\n"
          ]
        }
      ],
      "source": [
        "pip install pymoo"
      ]
    },
    {
      "cell_type": "markdown",
      "source": [
        "#Implement the Problem\n",
        "The function being responsible for the evaluation is _evaluate which shall be implemented next. The function’s interface is the parameters x and out. For this element-wise implementation x is a one-dimensional NumPy array of length n_var which represents a single solution to be evaluated. The output is supposed to be written to the dictionary out. The objective values should be written to out[\"F\"] as a list of NumPy array with length of n_obj and the constraints to out[\"G\"] with length of n_constr (if the problem has constraints to be satisfied at all)."
      ],
      "metadata": {
        "id": "cV2LiOM1DD1x"
      }
    },
    {
      "cell_type": "code",
      "source": [
        "import numpy as np\n",
        "from pymoo.core.problem import ElementwiseProblem\n",
        "\n",
        "class MyProblem(ElementwiseProblem):\n",
        "\n",
        "    def __init__(self):\n",
        "        super().__init__(n_var=2,\n",
        "                         n_obj=2,\n",
        "                         n_ieq_constr=2,\n",
        "                         xl=np.array([-2,-2]),\n",
        "                         xu=np.array([2,2]))\n",
        "\n",
        "    def _evaluate(self, x, out, *args, **kwargs):\n",
        "        f1 = 100 * (x[0]**2 + x[1]**2)\n",
        "        f2 = (x[0]-1)**2 + x[1]**2\n",
        "\n",
        "        g1 = 2*(x[0]-0.1) * (x[0]-0.9) / 0.18\n",
        "        g2 = - 20*(x[0]-0.4) * (x[0]-0.6) / 4.8\n",
        "\n",
        "        out[\"F\"] = [f1, f2]\n",
        "        out[\"G\"] = [g1, g2]\n",
        "\n",
        "\n",
        "problem = MyProblem()"
      ],
      "metadata": {
        "id": "ZyBoMHo06KFk"
      },
      "execution_count": 5,
      "outputs": []
    },
    {
      "cell_type": "markdown",
      "source": [
        "#Initialize an Algorithm\n",
        "n our case, the optimization problem is rather simple, but the aspect of having two objectives and two constraints should be considered. Thus, let us select the well-known multi-objective algorithm NSGA-II. For the majority of algorithms you could either choose the default hyper-parameters or create your own version of the algorithm by modifying them. For instance, for this relatively simple problem we choose a population size of 40 (`pop_size=40`) and with only 10 (`n_offsprings=10`) in each generation. Such an implementation is a greedier variant and improves the convergence of simpler optimization problems without major difficulties regarding optimization, such as the existence of local Pareto-fronts. Moreover, we enable a duplicate check (`eliminate_duplicates=True`), making sure that the mating produces offsprings that are different from themselves and the existing population regarding their design space values."
      ],
      "metadata": {
        "id": "JA42MbXbCu3K"
      }
    },
    {
      "cell_type": "code",
      "source": [
        "from pymoo.algorithms.moo.nsga2 import NSGA2\n",
        "from pymoo.operators.crossover.sbx import SBX\n",
        "from pymoo.operators.mutation.pm import PM\n",
        "from pymoo.operators.sampling.rnd import FloatRandomSampling\n",
        "\n",
        "algorithm = NSGA2(\n",
        "    pop_size=40,\n",
        "    n_offsprings=10,\n",
        "    sampling=FloatRandomSampling(),\n",
        "    crossover=SBX(prob=0.9, eta=15),\n",
        "    mutation=PM(eta=20),\n",
        "    eliminate_duplicates=True\n",
        ")"
      ],
      "metadata": {
        "id": "SXtpo8mbCEey"
      },
      "execution_count": 6,
      "outputs": []
    },
    {
      "cell_type": "markdown",
      "source": [
        "#Define a Termination Criterion \n",
        "Furthermore, a termination criterion needs to be defined to start the optimization procedure. Most common ways of defining the termination is by limiting the overall number of function evaluations or simply the number of iterations of the algorithm."
      ],
      "metadata": {
        "id": "E7l_JLAwCmgX"
      }
    },
    {
      "cell_type": "code",
      "source": [
        "from pymoo.termination import get_termination\n",
        "\n",
        "termination = get_termination(\"n_gen\", 40)"
      ],
      "metadata": {
        "id": "yr4vPI09CIbD"
      },
      "execution_count": 7,
      "outputs": []
    },
    {
      "cell_type": "markdown",
      "source": [
        "#Optimize\n",
        "Finally, we are solving the problem with the algorithm and termination we have defined. The functional interface uses the minimize method. By default, the minimize performs deep-copies of the algorithm and the termination object which guarantees they are not modified during the function call. This is important to ensure that repetitive function calls with the same random seed end up with the same results. When the algorithm has been terminated, the minimize function returns a Result object."
      ],
      "metadata": {
        "id": "TZhB7-ojCgFr"
      }
    },
    {
      "cell_type": "code",
      "source": [
        "from pymoo.optimize import minimize\n",
        "\n",
        "res = minimize(problem,\n",
        "               algorithm,\n",
        "               termination,\n",
        "               seed=1,\n",
        "               save_history=True,\n",
        "               verbose=True)\n",
        "\n",
        "X = res.X\n",
        "F = res.F"
      ],
      "metadata": {
        "colab": {
          "base_uri": "https://localhost:8080/"
        },
        "id": "Rq-jl2ziCNRX",
        "outputId": "50d31ec5-14ef-49a1-b276-393f5cca0814"
      },
      "execution_count": 8,
      "outputs": [
        {
          "output_type": "stream",
          "name": "stdout",
          "text": [
            "==========================================================================================\n",
            "n_gen  |  n_eval  | n_nds  |     cv_min    |     cv_avg    |      eps      |   indicator  \n",
            "==========================================================================================\n",
            "     1 |       40 |      1 |  0.000000E+00 |  2.363992E+01 |             - |             -\n",
            "     2 |       50 |      1 |  0.000000E+00 |  1.262978E+01 |  0.000000E+00 |             f\n",
            "     3 |       60 |      2 |  0.000000E+00 |  5.3749132447 |  1.0000000000 |         ideal\n",
            "     4 |       70 |      2 |  0.000000E+00 |  2.4309071542 |  0.000000E+00 |             f\n",
            "     5 |       80 |      3 |  0.000000E+00 |  0.9326371456 |  0.0096178563 |         ideal\n",
            "     6 |       90 |      3 |  0.000000E+00 |  0.1066499133 |  0.0601661450 |         ideal\n",
            "     7 |      100 |      3 |  0.000000E+00 |  0.0092174421 |  0.000000E+00 |             f\n",
            "     8 |      110 |      5 |  0.000000E+00 |  0.0010944863 |  0.2816759453 |         ideal\n",
            "     9 |      120 |      6 |  0.000000E+00 |  0.000000E+00 |  0.0124399889 |             f\n",
            "    10 |      130 |      9 |  0.000000E+00 |  0.000000E+00 |  0.0041045275 |         ideal\n",
            "    11 |      140 |     11 |  0.000000E+00 |  0.000000E+00 |  0.0712013860 |         ideal\n",
            "    12 |      150 |     14 |  0.000000E+00 |  0.000000E+00 |  0.0176299724 |         nadir\n",
            "    13 |      160 |     16 |  0.000000E+00 |  0.000000E+00 |  0.0084540527 |         nadir\n",
            "    14 |      170 |     17 |  0.000000E+00 |  0.000000E+00 |  0.0535032564 |         ideal\n",
            "    15 |      180 |     18 |  0.000000E+00 |  0.000000E+00 |  0.0026741958 |             f\n",
            "    16 |      190 |     20 |  0.000000E+00 |  0.000000E+00 |  0.0075213052 |             f\n",
            "    17 |      200 |     18 |  0.000000E+00 |  0.000000E+00 |  0.0047562673 |             f\n",
            "    18 |      210 |     21 |  0.000000E+00 |  0.000000E+00 |  0.0086666741 |             f\n",
            "    19 |      220 |     23 |  0.000000E+00 |  0.000000E+00 |  0.0032475596 |             f\n",
            "    20 |      230 |     24 |  0.000000E+00 |  0.000000E+00 |  0.0003600780 |             f\n",
            "    21 |      240 |     27 |  0.000000E+00 |  0.000000E+00 |  0.0133565043 |         ideal\n",
            "    22 |      250 |     29 |  0.000000E+00 |  0.000000E+00 |  0.0003058486 |             f\n",
            "    23 |      260 |     32 |  0.000000E+00 |  0.000000E+00 |  0.0054774804 |             f\n",
            "    24 |      270 |     35 |  0.000000E+00 |  0.000000E+00 |  0.0021435460 |             f\n",
            "    25 |      280 |     39 |  0.000000E+00 |  0.000000E+00 |  0.0272476166 |         ideal\n",
            "    26 |      290 |     39 |  0.000000E+00 |  0.000000E+00 |  0.0005264345 |             f\n",
            "    27 |      300 |     40 |  0.000000E+00 |  0.000000E+00 |  0.0008022582 |             f\n",
            "    28 |      310 |     40 |  0.000000E+00 |  0.000000E+00 |  0.0077780189 |         ideal\n",
            "    29 |      320 |     40 |  0.000000E+00 |  0.000000E+00 |  0.000000E+00 |             f\n",
            "    30 |      330 |     39 |  0.000000E+00 |  0.000000E+00 |  0.0004551616 |             f\n",
            "    31 |      340 |     40 |  0.000000E+00 |  0.000000E+00 |  0.0010400498 |             f\n",
            "    32 |      350 |     40 |  0.000000E+00 |  0.000000E+00 |  0.0038667675 |             f\n",
            "    33 |      360 |     40 |  0.000000E+00 |  0.000000E+00 |  0.0019094528 |             f\n",
            "    34 |      370 |     40 |  0.000000E+00 |  0.000000E+00 |  0.0021925154 |             f\n",
            "    35 |      380 |     40 |  0.000000E+00 |  0.000000E+00 |  0.0024918707 |             f\n",
            "    36 |      390 |     40 |  0.000000E+00 |  0.000000E+00 |  0.0027009523 |             f\n",
            "    37 |      400 |     40 |  0.000000E+00 |  0.000000E+00 |  0.0055204965 |         nadir\n",
            "    38 |      410 |     40 |  0.000000E+00 |  0.000000E+00 |  0.0009221307 |             f\n",
            "    39 |      420 |     40 |  0.000000E+00 |  0.000000E+00 |  0.0022106160 |             f\n",
            "    40 |      430 |     40 |  0.000000E+00 |  0.000000E+00 |  0.0040496979 |             f\n"
          ]
        }
      ]
    },
    {
      "cell_type": "markdown",
      "source": [
        "#Visualize\n",
        "Analyzing the solutions being found by the algorithm is vital. Always a good start is visualizing the solutions to get a grasp of commonalities or if the Pareto-front is known to even check the convergence."
      ],
      "metadata": {
        "id": "0L-YQ6igCWKC"
      }
    },
    {
      "cell_type": "code",
      "source": [
        "import matplotlib.pyplot as plt\n",
        "xl, xu = problem.bounds()\n",
        "plt.figure(figsize=(7, 5))\n",
        "plt.scatter(X[:, 0], X[:, 1], s=30, facecolors='none', edgecolors='r')\n",
        "plt.xlim(xl[0], xu[0])\n",
        "plt.ylim(xl[1], xu[1])\n",
        "plt.title(\"Design Space\")\n",
        "plt.show()"
      ],
      "metadata": {
        "colab": {
          "base_uri": "https://localhost:8080/",
          "height": 336
        },
        "id": "a8o8Q13jCPum",
        "outputId": "eff2512f-2f38-406e-fc1d-80510a75c3a0"
      },
      "execution_count": 9,
      "outputs": [
        {
          "output_type": "display_data",
          "data": {
            "text/plain": [
              "<Figure size 504x360 with 1 Axes>"
            ],
            "image/png": "[encoded data removed]"
          },
          "metadata": {
            "needs_background": "light"
          }
        }
      ]
    },
    {
      "cell_type": "code",
      "source": [
        "plt.figure(figsize=(7, 5))\n",
        "plt.scatter(F[:, 0], F[:, 1], s=30, facecolors='none', edgecolors='blue')\n",
        "plt.title(\"Objective Space\")\n",
        "plt.show()"
      ],
      "metadata": {
        "colab": {
          "base_uri": "https://localhost:8080/",
          "height": 336
        },
        "id": "Gwfd8pViCSDn",
        "outputId": "962ca231-7f37-4da4-bbbd-3b5b20ae2bac"
      },
      "execution_count": 10,
      "outputs": [
        {
          "output_type": "display_data",
          "data": {
            "text/plain": [
              "<Figure size 504x360 with 1 Axes>"
            ],
            "image/png": "[encoded data removed]"
          },
          "metadata": {
            "needs_background": "light"
          }
        }
      ]
    }
  ]
}