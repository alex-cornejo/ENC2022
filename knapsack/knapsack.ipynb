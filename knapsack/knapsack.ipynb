{
  "nbformat": 4,
  "nbformat_minor": 0,
  "metadata": {
    "colab": {
      "name": "knapsack.ipynb",
      "provenance": [],
      "collapsed_sections": []
    },
    "kernelspec": {
      "name": "python3",
      "display_name": "Python 3"
    },
    "language_info": {
      "name": "python"
    }
  },
  "cells": [
    {
      "cell_type": "markdown",
      "source": [
        "# The 0-1 Knapsack Problem\n",
        "\n",
        "The following is the implementation of this problem in the Pymoo framework,"
      ],
      "metadata": {
        "id": "lRqRAy8EZV7r"
      }
    },
    {
      "cell_type": "code",
      "source": [
        "pip install pymoo"
      ],
      "metadata": {
        "id": "2fc2UGn1Kmqr",
        "colab": {
          "base_uri": "https://localhost:8080/"
        },
        "outputId": "be449502-2a65-47be-881f-4d994f7ffe91"
      },
      "execution_count": 1,
      "outputs": [
        {
          "output_type": "stream",
          "name": "stdout",
          "text": [
            "Looking in indexes: https://pypi.org/simple, https://us-python.pkg.dev/colab-wheels/public/simple/\n",
            "Collecting pymoo\n",
            "  Downloading pymoo-0.6.0-cp37-cp37m-manylinux_2_24_x86_64.whl (1.9 MB)\n",
            "\u001b[K     |████████████████████████████████| 1.9 MB 4.9 MB/s \n",
            "\u001b[?25hRequirement already satisfied: numpy>=1.15 in /usr/local/lib/python3.7/dist-packages (from pymoo) (1.21.6)\n",
            "Requirement already satisfied: dill in /usr/local/lib/python3.7/dist-packages (from pymoo) (0.3.5.1)\n",
            "Requirement already satisfied: scipy>=1.1 in /usr/local/lib/python3.7/dist-packages (from pymoo) (1.7.3)\n",
            "Requirement already satisfied: matplotlib>=3 in /usr/local/lib/python3.7/dist-packages (from pymoo) (3.2.2)\n",
            "Collecting cma==3.2.2\n",
            "  Downloading cma-3.2.2-py2.py3-none-any.whl (249 kB)\n",
            "\u001b[K     |████████████████████████████████| 249 kB 21.8 MB/s \n",
            "\u001b[?25hCollecting Deprecated\n",
            "  Downloading Deprecated-1.2.13-py2.py3-none-any.whl (9.6 kB)\n",
            "Requirement already satisfied: autograd>=1.4 in /usr/local/lib/python3.7/dist-packages (from pymoo) (1.4)\n",
            "Collecting alive-progress\n",
            "  Downloading alive_progress-2.4.1-py3-none-any.whl (80 kB)\n",
            "\u001b[K     |████████████████████████████████| 80 kB 1.3 MB/s \n",
            "\u001b[?25hRequirement already satisfied: future>=0.15.2 in /usr/local/lib/python3.7/dist-packages (from autograd>=1.4->pymoo) (0.16.0)\n",
            "Requirement already satisfied: pyparsing!=2.0.4,!=2.1.2,!=2.1.6,>=2.0.1 in /usr/local/lib/python3.7/dist-packages (from matplotlib>=3->pymoo) (3.0.9)\n",
            "Requirement already satisfied: kiwisolver>=1.0.1 in /usr/local/lib/python3.7/dist-packages (from matplotlib>=3->pymoo) (1.4.4)\n",
            "Requirement already satisfied: cycler>=0.10 in /usr/local/lib/python3.7/dist-packages (from matplotlib>=3->pymoo) (0.11.0)\n",
            "Requirement already satisfied: python-dateutil>=2.1 in /usr/local/lib/python3.7/dist-packages (from matplotlib>=3->pymoo) (2.8.2)\n",
            "Requirement already satisfied: typing-extensions in /usr/local/lib/python3.7/dist-packages (from kiwisolver>=1.0.1->matplotlib>=3->pymoo) (4.1.1)\n",
            "Requirement already satisfied: six>=1.5 in /usr/local/lib/python3.7/dist-packages (from python-dateutil>=2.1->matplotlib>=3->pymoo) (1.15.0)\n",
            "Collecting grapheme==0.6.0\n",
            "  Downloading grapheme-0.6.0.tar.gz (207 kB)\n",
            "\u001b[K     |████████████████████████████████| 207 kB 20.1 MB/s \n",
            "\u001b[?25hCollecting about-time==3.1.1\n",
            "  Downloading about_time-3.1.1-py3-none-any.whl (9.1 kB)\n",
            "Requirement already satisfied: wrapt<2,>=1.10 in /usr/local/lib/python3.7/dist-packages (from Deprecated->pymoo) (1.14.1)\n",
            "Building wheels for collected packages: grapheme\n",
            "  Building wheel for grapheme (setup.py) ... \u001b[?25l\u001b[?25hdone\n",
            "  Created wheel for grapheme: filename=grapheme-0.6.0-py3-none-any.whl size=210096 sha256=3e24ca56e4579c581339365d8340040ad12163155501995b853e493d941b3da5\n",
            "  Stored in directory: /root/.cache/pip/wheels/71/fc/c8/142ef03b79c02b618fe80b9f2d01c25bd55f60b0c58eab3f0e\n",
            "Successfully built grapheme\n",
            "Installing collected packages: grapheme, about-time, Deprecated, cma, alive-progress, pymoo\n",
            "Successfully installed Deprecated-1.2.13 about-time-3.1.1 alive-progress-2.4.1 cma-3.2.2 grapheme-0.6.0 pymoo-0.6.0\n"
          ]
        }
      ]
    },
    {
      "cell_type": "markdown",
      "source": [
        "#Implement the problem\n",
        "\n",
        "First, we must create a class with all the information about the problem."
      ],
      "metadata": {
        "id": "QWxUzIuHAAU0"
      }
    },
    {
      "cell_type": "code",
      "source": [
        "#%%\n",
        "import numpy as np\n",
        "import numpy as np\n",
        "import autograd.numpy as anp\n",
        "\n",
        "\n",
        "from pymoo.algorithms.soo.nonconvex.ga import GA\n",
        "from pymoo.core.problem import Problem\n",
        "from pymoo.factory import get_crossover, get_mutation, get_sampling\n",
        "from pymoo.operators.selection.tournament import TournamentSelection\n",
        "from pymoo.operators.sampling.rnd import BinaryRandomSampling\n",
        "from pymoo.operators.crossover.pntx import SinglePointCrossover\n",
        "from pymoo.operators.mutation.bitflip import BitflipMutation\n",
        "\n",
        "from pymoo.optimize import minimize\n",
        "from pymoo.problems.single.knapsack import create_random_knapsack_problem\n",
        "\n",
        "from pymoo.operators.selection.tournament import compare, TournamentSelection\n",
        "from pymoo.core.problem import Problem\n",
        "\n",
        "\n",
        "#in this class we implements how the individual will be measuere, we need some information about the problem, items, weights, values and maximum capacity}\n",
        "#also here we need to implements the contraints too.\n",
        "\n",
        "class Knapsack(Problem):\n",
        "    def __init__(self,\n",
        "                 n_items,  # number of items that can be picked up\n",
        "                 W,  # weights for each item\n",
        "                 V,  # profit of each item\n",
        "                 C,  # maximum capacity\n",
        "                 ):\n",
        "        super().__init__(n_var=n_items, n_obj=1, n_constr=1, xl=0, xu=1, type_var=bool)\n",
        "\n",
        "        self.W = W\n",
        "        self.V= V\n",
        "        self.C = C\n",
        "\n",
        "    def _evaluate(self, x, out, *args, **kwargs):\n",
        "        out[\"F\"] = -anp.sum(self.V * x, axis=1)\n",
        "        out[\"G\"] = (anp.sum(self.W * x, axis=1) - self.C)\n",
        "\n",
        "\n"
      ],
      "metadata": {
        "id": "tvAmQZ68NY-M"
      },
      "execution_count": 2,
      "outputs": []
    },
    {
      "cell_type": "markdown",
      "source": [
        "#Handling the Constraints\n",
        "\n",
        "This problem has constraints we need to implements a constraint handler tecnique, here the most basic called CDP (constraint dominance principle)"
      ],
      "metadata": {
        "id": "tpkT8cfEJxUC"
      }
    },
    {
      "cell_type": "code",
      "source": [
        "\n",
        "\n",
        "\n",
        "#CDP deb rule's\n",
        "\n",
        "def comp_by_cv_and_fitness(pop, P, **kwargs):\n",
        "    S = np.full(P.shape[0], np.nan)\n",
        "\n",
        "    for i in range(P.shape[0]):\n",
        "        a, b = P[i, 0], P[i, 1]\n",
        "\n",
        "        # if at least one solution is infeasible\n",
        "        if pop[a].CV > 0.0 or pop[b].CV > 0.0:\n",
        "            S[i] = compare(a, pop[a].CV, b, pop[b].CV, method='smaller_is_better', return_random_if_equal=True)\n",
        "\n",
        "        # both solutions are feasible just set random if are equal\n",
        "        else:\n",
        "            S[i] = compare(a, pop[a].F, b, pop[b].F, method='smaller_is_better', return_random_if_equal=True)\n",
        "\n",
        "    return S[:, None].astype(int)\n"
      ],
      "metadata": {
        "id": "0HzsL7wLAGfJ"
      },
      "execution_count": 3,
      "outputs": []
    },
    {
      "cell_type": "markdown",
      "source": [
        "#Initialize an Algorithm"
      ],
      "metadata": {
        "id": "1p3T9myiFeRD"
      }
    },
    {
      "cell_type": "code",
      "source": [
        "\n",
        "\n",
        "# here we generates de information, \n",
        "# anp.random.seed(1)\n",
        "n_items=1000\n",
        "V = anp.random.randint(1, 100, size=n_items)\n",
        "W = anp.random.randint(1, 100, size=n_items)\n",
        "C = int(anp.sum(W) / 10)\n",
        "\n",
        "\n",
        "\n",
        "#We define the technique In this case, the genetic algorithm\n",
        "\n",
        "pop_size=100\n",
        "n_gen=1000\n",
        "\n",
        "algorithm = GA(\n",
        "    pop_size=pop_size,  \n",
        "    selection=TournamentSelection(func_comp=comp_by_cv_and_fitness), # the selection method is Tournament but with the opcion func_comp we define the comparation method, CDP in this problem\n",
        "    sampling= BinaryRandomSampling(),\n",
        "    crossover=SinglePointCrossover(),\n",
        "    mutation= BitflipMutation(),\n",
        "    eliminate_duplicates=True)\n",
        "\n",
        "\n",
        "\n",
        "\n",
        "\n"
      ],
      "metadata": {
        "id": "8yYQLThtALv1"
      },
      "execution_count": 4,
      "outputs": []
    },
    {
      "cell_type": "markdown",
      "source": [
        "#Optimize"
      ],
      "metadata": {
        "id": "_-zZDpbJFuOn"
      }
    },
    {
      "cell_type": "code",
      "source": [
        "res = minimize(Knapsack(n_items,W,V,C), # whit this opcion we star the algorithm \n",
        "               algorithm,\n",
        "               ('n_gen', n_gen),\n",
        "               verbose=False,  \n",
        "               save_history=True)\n",
        "\n",
        "print(\"Best solution found: %s\" % res.X.astype(int))\n",
        "print(\"Function value: %s\" % (res.F*-1))\n",
        "print(\"Constraint violation: %s\" % res.CV)"
      ],
      "metadata": {
        "colab": {
          "base_uri": "https://localhost:8080/"
        },
        "id": "GnNVeduPFqsm",
        "outputId": "349fc151-2f6c-47f5-c273-690b6cf9dc28"
      },
      "execution_count": 5,
      "outputs": [
        {
          "output_type": "stream",
          "name": "stdout",
          "text": [
            "Best solution found: [1 0 0 0 1 0 0 0 0 0 0 0 1 0 0 0 0 0 0 0 0 1 0 0 1 0 0 0 1 0 0 0 0 0 0 1 0\n",
            " 1 0 1 0 0 0 0 0 1 0 0 1 0 0 1 0 1 1 0 0 0 0 1 0 0 0 0 0 1 0 1 0 0 0 0 0 0\n",
            " 0 0 1 1 0 1 1 0 0 0 0 1 1 0 0 0 0 0 1 0 0 1 0 0 0 0 0 0 1 0 1 0 1 0 1 0 1\n",
            " 0 0 0 1 0 1 1 1 0 0 1 0 1 1 1 0 0 0 0 0 0 0 0 1 1 0 0 0 1 1 0 0 1 0 0 0 0\n",
            " 1 0 0 0 0 0 1 1 1 0 0 0 1 0 0 0 0 0 1 1 0 1 0 0 1 0 1 0 1 0 0 1 1 0 0 1 1\n",
            " 0 1 0 1 0 1 0 0 0 1 0 0 0 0 0 1 1 0 0 0 0 0 0 0 0 0 0 1 0 0 0 0 0 0 0 1 1\n",
            " 0 0 1 0 0 0 0 0 0 1 1 0 0 1 0 0 0 0 0 0 0 0 0 0 1 0 0 0 0 0 0 1 0 0 1 1 0\n",
            " 0 1 0 0 0 0 1 1 0 1 1 0 1 0 0 0 0 0 0 0 1 1 1 0 0 0 0 0 1 0 0 0 0 0 0 0 0\n",
            " 0 1 1 1 1 0 0 0 1 0 0 0 0 0 0 0 0 0 0 0 1 1 0 0 0 0 0 1 1 0 0 1 1 0 0 0 0\n",
            " 0 0 0 0 0 0 0 0 1 0 0 0 0 0 1 0 0 0 1 1 0 1 1 0 1 0 1 1 1 0 0 1 1 1 0 0 1\n",
            " 0 1 0 0 0 0 1 1 1 0 0 0 1 1 0 1 0 0 0 0 1 0 0 0 0 0 0 0 1 0 1 0 0 0 0 1 0\n",
            " 0 0 0 0 0 0 0 0 0 1 0 0 0 0 0 1 0 0 0 0 1 0 1 0 0 0 0 0 0 0 0 1 0 0 0 0 0\n",
            " 1 0 0 0 0 0 1 0 1 0 0 0 0 0 0 0 1 0 1 0 0 0 0 0 0 0 0 0 1 0 0 0 1 1 0 0 1\n",
            " 0 0 0 1 0 1 0 0 0 0 1 0 1 0 0 0 0 0 1 0 0 0 1 0 0 0 1 1 1 0 0 0 0 0 0 1 0\n",
            " 0 0 1 0 0 0 1 1 0 0 0 1 0 0 0 0 0 1 0 0 0 0 0 1 1 1 0 0 0 1 1 0 0 0 0 0 0\n",
            " 0 0 0 1 0 1 1 0 1 0 0 0 0 0 1 0 0 0 1 0 0 0 0 0 1 0 0 0 0 0 0 0 0 0 0 0 0\n",
            " 0 0 1 0 1 0 1 1 0 0 0 1 0 1 0 1 1 1 0 1 0 0 1 0 0 0 1 1 0 0 0 0 0 0 1 0 0\n",
            " 0 0 0 0 0 1 0 0 0 0 0 1 0 0 0 0 0 0 0 0 0 1 0 0 0 1 0 0 0 0 0 1 1 0 0 0 1\n",
            " 0 0 0 0 0 0 0 1 0 0 1 0 0 0 0 1 1 1 0 0 0 0 0 0 0 0 0 0 0 0 0 0 0 0 0 0 0\n",
            " 0 0 0 0 0 0 1 0 0 0 0 0 0 0 1 1 0 1 0 1 0 0 0 0 0 0 1 0 0 0 0 1 1 1 0 0 1\n",
            " 0 0 0 0 0 0 0 0 0 0 1 0 0 1 0 0 0 0 0 0 0 0 0 0 0 0 0 0 0 0 0 0 0 1 0 0 0\n",
            " 0 0 0 1 1 1 1 0 1 1 1 0 0 1 0 1 0 1 0 0 0 0 1 0 0 0 0 0 1 0 0 1 0 0 0 0 0\n",
            " 0 0 0 0 0 1 1 0 1 1 0 0 0 0 1 0 0 0 0 0 1 0 1 0 0 1 0 0 0 1 0 0 1 0 0 0 0\n",
            " 0 0 0 0 1 0 1 1 1 1 1 1 1 0 0 1 0 0 1 0 0 0 0 1 0 1 0 0 0 0 0 1 0 0 0 0 1\n",
            " 0 0 0 1 0 0 0 0 0 1 0 0 0 0 0 0 0 1 0 0 0 1 1 1 0 0 0 0 0 0 0 0 0 1 0 0 0\n",
            " 0 0 0 0 1 0 1 0 1 0 0 1 1 0 0 0 0 0 0 0 0 0 0 1 0 1 0 0 0 1 0 0 1 0 0 0 0\n",
            " 0 0 1 0 0 1 0 0 1 0 0 0 0 0 0 0 1 0 1 0 1 1 1 1 1 0 0 0 1 0 0 0 0 0 0 0 1\n",
            " 0]\n",
            "Function value: [17287.]\n",
            "Constraint violation: [0.]\n"
          ]
        }
      ]
    },
    {
      "cell_type": "markdown",
      "source": [
        "#Visualize\n",
        "We can plot the best fitness in each generation"
      ],
      "metadata": {
        "id": "b14rwwe6y_UF"
      }
    },
    {
      "cell_type": "code",
      "source": [
        "import matplotlib.pyplot as plt\n",
        "plt.rcParams['figure.figsize'] = [15,15]\n",
        "\n",
        "fitness=[]\n",
        "cvs=[]\n",
        "best_fit=[]\n",
        "for i in range(n_gen):\n",
        "    F=res.history[i].pop.get(\"F\").sum()/pop_size\n",
        "    cv = res.history[i].pop.get(\"CV\").sum() / pop_size\n",
        "    Fb=res.history[i].pop.get(\"F\").min()\n",
        "\n",
        "    cvs.append(cv)\n",
        "    # if res.history[i].pop.get(\"CV\").sum()==0:\n",
        "    fitness.append(F*-1)\n",
        "    best_fit.append(Fb*-1)\n",
        "    # else:\n",
        "    # fitness.append(0)\n",
        "    # best_fit.append(0)\n",
        "\n",
        "\n",
        "p = plt.plot(range(n_gen),cvs, color='red')  #Constraint violation\n",
        "p = plt.plot(range(n_gen),fitness,color='green') #Mean Fitness\n",
        "p = plt.plot(range(n_gen),best_fit, color='blue') # best Fitness\n",
        "\n",
        "plt.xlabel('Generations')\n",
        "plt.ylabel('Fitness')\n",
        "plt.show()\n"
      ],
      "metadata": {
        "colab": {
          "base_uri": "https://localhost:8080/",
          "height": 877
        },
        "id": "6KM2cWOCrtwn",
        "outputId": "44a5b920-42e3-4c96-8f84-781803373476"
      },
      "execution_count": 6,
      "outputs": [
        {
          "output_type": "display_data",
          "data": {
            "text/plain": [
              "<Figure size 1080x1080 with 1 Axes>"
            ],
            "image/png": "[encoded data removed]"
          },
          "metadata": {
            "needs_background": "light"
          }
        }
      ]
    }
  ]
}