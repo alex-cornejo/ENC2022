{
  "nbformat": 4,
  "nbformat_minor": 0,
  "metadata": {
    "colab": {
      "name": "knapsack.ipynb",
      "provenance": [],
      "collapsed_sections": []
    },
    "kernelspec": {
      "name": "python3",
      "display_name": "Python 3"
    },
    "language_info": {
      "name": "python"
    }
  },
  "cells": [
    {
      "cell_type": "markdown",
      "source": [
        "# The 0-1 Knapsack Problem\n",
        "\n",
        "The following is the implementation of this problem in the Pymoo framework,"
      ],
      "metadata": {
        "id": "lRqRAy8EZV7r"
      }
    },
    {
      "cell_type": "code",
      "source": [
        "from google.colab import drive\n",
        "drive.mount('/content/drive')"
      ],
      "metadata": {
        "id": "AFSl8VFo17_O"
      },
      "execution_count": null,
      "outputs": []
    },
    {
      "cell_type": "markdown",
      "source": [
        "# First we need to install pymoo, in this case we use the  version 0.5.0"
      ],
      "metadata": {
        "id": "IH8CmSReeK8v"
      }
    },
    {
      "cell_type": "code",
      "source": [
        "pip install pymoo==0.5.0"
      ],
      "metadata": {
        "id": "2fc2UGn1Kmqr",
        "colab": {
          "base_uri": "https://localhost:8080/"
        },
        "outputId": "6ff11c9a-6a7b-490e-cb3c-fe9194523955"
      },
      "execution_count": 2,
      "outputs": [
        {
          "output_type": "stream",
          "name": "stdout",
          "text": [
            "Looking in indexes: https://pypi.org/simple, https://us-python.pkg.dev/colab-wheels/public/simple/\n",
            "Collecting pymoo==0.5.0\n",
            "  Downloading pymoo-0.5.0-cp37-cp37m-manylinux_2_5_x86_64.manylinux1_x86_64.manylinux_2_12_x86_64.manylinux2010_x86_64.whl (2.5 MB)\n",
            "\u001b[K     |████████████████████████████████| 2.5 MB 13.3 MB/s \n",
            "\u001b[?25hRequirement already satisfied: matplotlib>=3 in /usr/local/lib/python3.7/dist-packages (from pymoo==0.5.0) (3.2.2)\n",
            "Requirement already satisfied: numpy>=1.15 in /usr/local/lib/python3.7/dist-packages (from pymoo==0.5.0) (1.21.6)\n",
            "Requirement already satisfied: scipy>=1.1 in /usr/local/lib/python3.7/dist-packages (from pymoo==0.5.0) (1.7.3)\n",
            "Collecting cma==2.7\n",
            "  Downloading cma-2.7.0-py2.py3-none-any.whl (239 kB)\n",
            "\u001b[K     |████████████████████████████████| 239 kB 84.5 MB/s \n",
            "\u001b[?25hRequirement already satisfied: autograd>=1.3 in /usr/local/lib/python3.7/dist-packages (from pymoo==0.5.0) (1.4)\n",
            "Requirement already satisfied: future>=0.15.2 in /usr/local/lib/python3.7/dist-packages (from autograd>=1.3->pymoo==0.5.0) (0.16.0)\n",
            "Requirement already satisfied: pyparsing!=2.0.4,!=2.1.2,!=2.1.6,>=2.0.1 in /usr/local/lib/python3.7/dist-packages (from matplotlib>=3->pymoo==0.5.0) (3.0.9)\n",
            "Requirement already satisfied: cycler>=0.10 in /usr/local/lib/python3.7/dist-packages (from matplotlib>=3->pymoo==0.5.0) (0.11.0)\n",
            "Requirement already satisfied: python-dateutil>=2.1 in /usr/local/lib/python3.7/dist-packages (from matplotlib>=3->pymoo==0.5.0) (2.8.2)\n",
            "Requirement already satisfied: kiwisolver>=1.0.1 in /usr/local/lib/python3.7/dist-packages (from matplotlib>=3->pymoo==0.5.0) (1.4.4)\n",
            "Requirement already satisfied: typing-extensions in /usr/local/lib/python3.7/dist-packages (from kiwisolver>=1.0.1->matplotlib>=3->pymoo==0.5.0) (4.1.1)\n",
            "Requirement already satisfied: six>=1.5 in /usr/local/lib/python3.7/dist-packages (from python-dateutil>=2.1->matplotlib>=3->pymoo==0.5.0) (1.15.0)\n",
            "Installing collected packages: cma, pymoo\n",
            "Successfully installed cma-2.7.0 pymoo-0.5.0\n"
          ]
        }
      ]
    },
    {
      "cell_type": "markdown",
      "source": [
        "First, we must to create a class whit the all information about the problem"
      ],
      "metadata": {
        "id": "QWxUzIuHAAU0"
      }
    },
    {
      "cell_type": "code",
      "source": [
        "#%%\n",
        "import numpy as np\n",
        "\n",
        "from pymoo.algorithms.soo.nonconvex.ga import GA\n",
        "from pymoo.core.problem import Problem\n",
        "from pymoo.factory import get_crossover, get_mutation, get_sampling\n",
        "from pymoo.operators.selection.tournament import TournamentSelection\n",
        "from pymoo.optimize import minimize\n",
        "from pymoo.problems.single.knapsack import create_random_knapsack_problem\n",
        "import numpy as np\n",
        "import autograd.numpy as anp\n",
        "from pymoo.operators.selection.tournament import compare, TournamentSelection\n",
        "from pymoo.core.problem import Problem\n",
        "\n",
        "\n",
        "\n",
        "#in this class we implements how the individual will be measuere, we need some information about the problem, items, weights, values and maximum capacity}\n",
        "#also here we need to implements the contraints too.\n",
        "\n",
        "class Knapsack(Problem):\n",
        "    def __init__(self,\n",
        "                 n_items,  # number of items that can be picked up\n",
        "                 W,  # weights for each item\n",
        "                 V,  # profit of each item\n",
        "                 C,  # maximum capacity\n",
        "                 ):\n",
        "        super().__init__(n_var=n_items, n_obj=1, n_constr=1, xl=0, xu=1, type_var=bool)\n",
        "\n",
        "        self.W = W\n",
        "        self.V= V\n",
        "        self.C = C\n",
        "\n",
        "    def _evaluate(self, x, out, *args, **kwargs):\n",
        "        out[\"F\"] = -anp.sum(self.V * x, axis=1)\n",
        "        out[\"G\"] = (anp.sum(self.W * x, axis=1) - self.C)\n",
        "\n",
        "\n"
      ],
      "metadata": {
        "id": "tvAmQZ68NY-M"
      },
      "execution_count": 3,
      "outputs": []
    },
    {
      "cell_type": "code",
      "source": [
        "This problem has constraints we need to implements a constraint handler tecnique, here the most basic called CDP (constraint dominance principle)"
      ],
      "metadata": {
        "id": "bGKqL_EmhP_W"
      },
      "execution_count": null,
      "outputs": []
    },
    {
      "cell_type": "code",
      "source": [
        "\n",
        "\n",
        "\n",
        "#CDP deb rule's\n",
        "\n",
        "def comp_by_cv_and_fitness(pop, P, **kwargs):\n",
        "    S = np.full(P.shape[0], np.nan)\n",
        "\n",
        "    for i in range(P.shape[0]):\n",
        "        a, b = P[i, 0], P[i, 1]\n",
        "\n",
        "        # if at least one solution is infeasible\n",
        "        if pop[a].CV > 0.0 or pop[b].CV > 0.0:\n",
        "            S[i] = compare(a, pop[a].CV, b, pop[b].CV, method='smaller_is_better', return_random_if_equal=True)\n",
        "\n",
        "        # both solutions are feasible just set random if are equal\n",
        "        else:\n",
        "            S[i] = compare(a, pop[a].F, b, pop[b].F, method='smaller_is_better', return_random_if_equal=True)\n",
        "\n",
        "    return S[:, None].astype(int)\n"
      ],
      "metadata": {
        "id": "0HzsL7wLAGfJ"
      },
      "execution_count": 4,
      "outputs": []
    },
    {
      "cell_type": "code",
      "source": [
        "\n",
        "\n",
        "# here we generates de information, \n",
        "anp.random.seed(0)\n",
        "n_items=100\n",
        "V = anp.random.randint(1, 100, size=n_items)\n",
        "W = anp.random.randint(1, 100, size=n_items)\n",
        "C = int(anp.sum(W) / 10)\n",
        "\n",
        "\n",
        "\n",
        "#We define the technique In this case, the genetic algorithm\n",
        "\n",
        "pop_size=100\n",
        "\n",
        "algorithm = GA(\n",
        "    pop_size=pop_size,  \n",
        "    selection=TournamentSelection(func_comp=comp_by_cv_and_fitness), # the selection method is Tournament but with the opcion func_comp we define the comparation method, CDP in this problem\n",
        "    sampling=get_sampling(\"bin_random\"),\n",
        "    crossover=get_crossover(\"bin_one_point\"),\n",
        "    mutation=get_mutation(\"bin_bitflip\"),\n",
        "    eliminate_duplicates=True)\n",
        "n_gen=1000\n",
        "res = minimize(Knapsack(n_items,W,V,C), # whit this opcion we star the algorithm \n",
        "               algorithm,\n",
        "               ('n_gen', n_gen),\n",
        "               verbose=False,  \n",
        "               save_history=True)\n",
        "\n",
        "print(\"Best solution found: %s\" % res.X.astype(int))\n",
        "print(\"Function value: %s\" % (res.F*-1))\n",
        "print(\"Constraint violation: %s\" % res.CV)\n",
        "\n",
        "\n",
        "\n"
      ],
      "metadata": {
        "id": "8yYQLThtALv1"
      },
      "execution_count": null,
      "outputs": []
    },
    {
      "cell_type": "markdown",
      "source": [
        "We can plot the best fitness in each generation"
      ],
      "metadata": {
        "id": "b14rwwe6y_UF"
      }
    },
    {
      "cell_type": "code",
      "source": [
        "import matplotlib.pyplot as plt\n",
        "plt.rcParams['figure.figsize'] = [15,15]\n",
        "\n",
        "fitness=[]\n",
        "cvs=[]\n",
        "best_fit=[]\n",
        "for i in range(n_gen):\n",
        "    F=res.history[i].pop.get(\"F\").sum()/pop_size\n",
        "    cv = res.history[i].pop.get(\"CV\").sum() / pop_size\n",
        "    Fb=res.history[i].pop.get(\"F\").min()\n",
        "\n",
        "    cvs.append(cv)\n",
        "    if res.history[i].pop.get(\"CV\").sum()==0:\n",
        "        fitness.append(F*-1)\n",
        "        best_fit.append(Fb*-1)\n",
        "    else:\n",
        "        fitness.append(0)\n",
        "        best_fit.append(0)\n",
        "\n",
        "\n",
        "p = plt.plot(range(n_gen),cvs, color='red')  #Constraint violation\n",
        "p = plt.plot(range(n_gen),fitness,color='green') #Mean Fitness\n",
        "p = plt.plot(range(n_gen),best_fit, color='blue') # best Fitness\n",
        "\n",
        "plt.xlabel('Generations')\n",
        "plt.ylabel('Fitness')\n",
        "plt.show()\n"
      ],
      "metadata": {
        "colab": {
          "base_uri": "https://localhost:8080/",
          "height": 877
        },
        "id": "6KM2cWOCrtwn",
        "outputId": "be6a1554-7483-47cb-b719-b96b5ae3a59f"
      },
      "execution_count": 21,
      "outputs": [
        {
          "output_type": "display_data",
          "data": {
            "text/plain": [
              "<Figure size 1080x1080 with 1 Axes>"
            ],
            "image/png": "[encoded data removed]"
          },
          "metadata": {
            "needs_background": "light"
          }
        }
      ]
    }
  ]
}